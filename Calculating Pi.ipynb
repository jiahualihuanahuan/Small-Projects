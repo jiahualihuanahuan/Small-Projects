{
 "cells": [
  {
   "cell_type": "code",
   "execution_count": 2,
   "metadata": {},
   "outputs": [],
   "source": [
    "from numpy import random\n",
    "import numpy as np\n",
    "import matplotlib.pyplot as plt\n",
    "%matplotlib qt5"
   ]
  },
  {
   "cell_type": "code",
   "execution_count": 15,
   "metadata": {},
   "outputs": [
    {
     "name": "stdout",
     "output_type": "stream",
     "text": [
      "Pi is approximately:  3.1416608\n",
      "Pi actually is:  3.141592653589793\n"
     ]
    }
   ],
   "source": [
    "N = 10000000\n",
    "\n",
    "circlex = []\n",
    "circley = []\n",
    "squarex = []\n",
    "squarey = []\n",
    "i=1\n",
    "while i<= N:\n",
    "    x = random.uniform(-1,1)\n",
    "    y = random.uniform(-1,1)\n",
    "    if (x**2 + y**2 <=1):\n",
    "        circlex.append(x)\n",
    "        circley.append(y)\n",
    "    else:\n",
    "        squarex.append(x)\n",
    "        squarey.append(y)\n",
    "    i+=1\n",
    "\n",
    "pi = 4*len(circlex)/float(N)\n",
    "print('Pi is approximately: ',pi)\n",
    "print('Pi actually is: ', np.pi)\n",
    "\n",
    "plt.plot(circlex, circley, 'b.')\n",
    "plt.plot(squarex, squarey, 'g.')\n",
    "plt.grid()"
   ]
  },
  {
   "cell_type": "code",
   "execution_count": 22,
   "metadata": {},
   "outputs": [
    {
     "name": "stdout",
     "output_type": "stream",
     "text": [
      "3.141592653589793238462643383279502884197169399375105820974944592307816406286208998628034825342117069\n"
     ]
    }
   ],
   "source": [
    "from math import factorial\n",
    "from decimal import Decimal, getcontext\n",
    "\n",
    "getcontext().prec=100\n",
    "\n",
    "def calc(n):\n",
    "    t= Decimal(0)\n",
    "    pi = Decimal(0)\n",
    "    deno= Decimal(0)\n",
    "    k = 0\n",
    "    for k in range(n):\n",
    "        t = ((-1)**k)*(factorial(6*k))*(13591409+545140134*k)\n",
    "        deno = factorial(3*k)*(factorial(k)**3)*(640320**(3*k))\n",
    "        pi += Decimal(t)/Decimal(deno)                                   \n",
    "    pi = pi * Decimal(12)/Decimal(640320**Decimal(1.5))\n",
    "    pi = 1/pi\n",
    "    return pi\n",
    "\n",
    "print (calc(25))"
   ]
  },
  {
   "cell_type": "code",
   "execution_count": 18,
   "metadata": {},
   "outputs": [
    {
     "name": "stdout",
     "output_type": "stream",
     "text": [
      "3.141592653589793238462643383279502884197169399375105820974944592307816406286208998628034825342117070\n"
     ]
    }
   ],
   "source": [
    "from decimal import Decimal, getcontext\n",
    "getcontext().prec=100\n",
    "print (sum(1/Decimal(16)**k * \n",
    "          (Decimal(4)/(8*k+1) - \n",
    "           Decimal(2)/(8*k+4) - \n",
    "           Decimal(1)/(8*k+5) -\n",
    "           Decimal(1)/(8*k+6)) for k in range(100)))"
   ]
  },
  {
   "cell_type": "code",
   "execution_count": null,
   "metadata": {},
   "outputs": [],
   "source": []
  }
 ],
 "metadata": {
  "kernelspec": {
   "display_name": "Python 3",
   "language": "python",
   "name": "python3"
  },
  "language_info": {
   "codemirror_mode": {
    "name": "ipython",
    "version": 3
   },
   "file_extension": ".py",
   "mimetype": "text/x-python",
   "name": "python",
   "nbconvert_exporter": "python",
   "pygments_lexer": "ipython3",
   "version": "3.8.3"
  }
 },
 "nbformat": 4,
 "nbformat_minor": 4
}
